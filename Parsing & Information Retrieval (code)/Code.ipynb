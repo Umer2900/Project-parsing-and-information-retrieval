{
 "cells": [
  {
   "cell_type": "markdown",
   "metadata": {},
   "source": [
    "## **<span style=\"color:red\">Step 1: Parsing the Job Description </span>**\n",
    "\n",
    "."
   ]
  },
  {
   "cell_type": "code",
   "execution_count": 1,
   "metadata": {},
   "outputs": [
    {
     "name": "stdout",
     "output_type": "stream",
     "text": [
      "Industry: Technology\n",
      "Experience: 0-3 Yrs\n",
      "Skills: deep learning, Data analysis, data science, Machine learning, HTTP, Natural language processing, Data analytics, Business intelligence\n"
     ]
    }
   ],
   "source": [
    "import pandas as pd\n",
    "\n",
    "# Specify the CSV file path\n",
    "file = 'job_descriptions.csv'\n",
    "\n",
    "# Extract job details function\n",
    "def extract_job_details(job_id):\n",
    "    df = pd.read_csv(file)             \n",
    "    return df.loc[job_id, ['Industry', 'Experience', 'Skills']].to_dict()\n",
    "\n",
    "job_id = 65  # Specific job identifier\n",
    "job_details = extract_job_details(job_id)\n",
    "\n",
    "Industry = job_details['Industry']\n",
    "Experience = job_details['Experience']\n",
    "Skills = job_details['Skills']\n",
    "\n",
    "print(\"Industry:\", Industry)\n",
    "print(\"Experience:\", Experience)\n",
    "print(\"Skills:\", Skills)\n",
    "\n"
   ]
  },
  {
   "cell_type": "markdown",
   "metadata": {},
   "source": [
    ".\n",
    "\n",
    ".\n",
    "\n",
    "## **<span style=\"color:red\"> Step 2: Candidate RESUME to JSON </span>**"
   ]
  },
  {
   "cell_type": "markdown",
   "metadata": {},
   "source": [
    ".\n",
    "\n",
    "### **<span style=\"color:black\"> -pdf to Text </span>**"
   ]
  },
  {
   "cell_type": "code",
   "execution_count": 2,
   "metadata": {},
   "outputs": [
    {
     "name": "stdout",
     "output_type": "stream",
     "text": [
      "   \n",
      "Contact\n",
      "arun496.in@gmail.com\n",
      "www.linkedin.com/in/arunm-\n",
      "engineer  (LinkedIn)\n",
      "Top Skills\n",
      "ES6\n",
      "HTML5\n",
      "CSS3\n",
      "Languages\n",
      "English  (Full Professional)\n",
      "Tamil  (Professional Working)\n",
      "Hindi  (Native or Bilingual)\n",
      "Certifications\n",
      "Python 3.x - Programming Course\n",
      "DAILY CHALLENGE - 100\n",
      "Problem Solving (Basic)\n",
      "SQL - Basics \n",
      "Java Basics - Programming Course Arun M\n",
      "Software Engineer @ Zoho • 150K @ LinkedIn • Frontend, Web,\n",
      "React, Javascript, Typescript, Java\n",
      "Bengaluru, Karnataka, India\n",
      "Summary\n",
      "Hey there! I'm Arun, a dedicated Frontend Engineer with nearly\n",
      "3 years of experience specializing in developing responsive and\n",
      "visually appealing web applications. My technical expertise includes\n",
      "JavaScript (ES6+), TypeScript, React, Redux, Java, HTML5, CSS3.\n",
      "I'm passionate about writing clean, efficient, and maintainable\n",
      "code following best practices and coding standards. I optimize web\n",
      "applications for performance and scalability, ensuring a smooth user\n",
      "experience across devices. Collaborating with cross-functional teams\n",
      "including designers, backend developers, and product managers\n",
      "is key to implementing user-friendly interfaces that meet business\n",
      "objectives.\n",
      "At Zoho Corporation, I've led the development of innovative solutions\n",
      "like a cross-browser keyboard simulation and a File Transfer SDK,\n",
      "significantly enhancing efficiency and usability. I focus on optimizing\n",
      "user interfaces and web applications to deliver scalable and user-\n",
      "centric solutions that elevate performance and enhance user\n",
      "experience.\n",
      "Beyond my professional roles, I actively stay updated with the\n",
      "latest frontend development trends and technologies. I participate\n",
      "in code reviews, provide and receive constructive feedback, and\n",
      "continuously seek to enhance my problem-solving skills. I'm\n",
      "committed to sharing insights and mentoring aspiring developers on\n",
      "platforms like GeeksForGeeks and Topmate.\n",
      "I'm eager to contribute my skills and drive innovation in frontend\n",
      "development. Let's connect to explore opportunities where I can\n",
      "leverage my technical expertise to create impactful web experiences!\n",
      "DM or mail for Collaboration - arun496.in@gmail.com\n",
      "  Page 1 of 2   \n",
      "Experience\n",
      "Zoho\n",
      "Software Engineer | Frontend, React, Typescript, Javascript, Redux,\n",
      "Jest, HTML, CSS\n",
      "March 2022 - Present  (2 years 8 months)\n",
      "Chennai, Tamil Nadu, India\n",
      "Education\n",
      "Anna University\n",
      "Bachelor of Engineering - BE, Mechanical Engineering  · (2017 - 2021)\n",
      "Velammal Matriculation Higher Secondary School\n",
      "Higher Secondary, Biology/Biological Sciences, General  · (June 2015 - March\n",
      "2017)\n",
      "Velammal Matriculation Higher Secondary School\n",
      "Secondary   · (June 2004 - March 2015)\n",
      "  Page 2 of 2\n"
     ]
    }
   ],
   "source": [
    "import PyPDF2\n",
    "\n",
    "def pdf_to_text(pdf_file):\n",
    "    # Open the PDF file\n",
    "    with open(pdf_file, 'rb') as file:\n",
    "        reader = PyPDF2.PdfReader(file)\n",
    "        text = \"\"\n",
    "\n",
    "        # Iterate through all the pages and extract text\n",
    "        for page_num in range(len(reader.pages)):\n",
    "            page = reader.pages[page_num]\n",
    "            text += page.extract_text()\n",
    "\n",
    "    return text\n",
    "\n",
    "if __name__ == '__main__':\n",
    "    pdf_file = 'CV.pdf'  # Path to your PDF\n",
    "    Text_CV = pdf_to_text(pdf_file)  # Store extracted text in Text_CV\n",
    "    print(Text_CV)  # For verification, print the extracted text"
   ]
  },
  {
   "cell_type": "markdown",
   "metadata": {},
   "source": [
    ".\n",
    "\n",
    "### **<span style=\"color:black\"> -Text to JSON </span>**"
   ]
  },
  {
   "cell_type": "code",
   "execution_count": 3,
   "metadata": {},
   "outputs": [
    {
     "name": "stderr",
     "output_type": "stream",
     "text": [
      "c:\\Users\\janum\\AppData\\Local\\Programs\\Python\\Python312\\Lib\\site-packages\\tqdm\\auto.py:21: TqdmWarning: IProgress not found. Please update jupyter and ipywidgets. See https://ipywidgets.readthedocs.io/en/stable/user_install.html\n",
      "  from .autonotebook import tqdm as notebook_tqdm\n"
     ]
    },
    {
     "name": "stdout",
     "output_type": "stream",
     "text": [
      "```json\n",
      "{\n",
      "  \"contact\": {\n",
      "    \"email\": \"arun496.in@gmail.com\",\n",
      "    \"linkedin\": \"www.linkedin.com/in/arunm-\"\n",
      "  },\n",
      "  \"topSkills\": [\n",
      "    \"ES6\",\n",
      "    \"HTML5\",\n",
      "    \"CSS3\"\n",
      "  ],\n",
      "  \"languages\": [\n",
      "    {\n",
      "      \"name\": \"English\",\n",
      "      \"proficiency\": \"Full Professional\"\n",
      "    },\n",
      "    {\n",
      "      \"name\": \"Tamil\",\n",
      "      \"proficiency\": \"Professional Working\"\n",
      "    },\n",
      "    {\n",
      "      \"name\": \"Hindi\",\n",
      "      \"proficiency\": \"Native or Bilingual\"\n",
      "    }\n",
      "  ],\n",
      "  \"certifications\": [\n",
      "    \"Python 3.x - Programming Course\",\n",
      "    \"DAILY CHALLENGE - 100\",\n",
      "    \"Problem Solving (Basic)\",\n",
      "    \"SQL - Basics\",\n",
      "    \"Java Basics - Programming Course Arun M\"\n",
      "  ],\n",
      "  \"summary\": \"Hey there! I'm Arun, a dedicated Frontend Engineer with nearly 3 years of experience specializing in developing responsive and visually appealing web applications. My technical expertise includes JavaScript (ES6+), TypeScript, React, Redux, Java, HTML5, CSS3. I'm passionate about writing clean, efficient, and maintainable code following best practices and coding standards. I optimize web applications for performance and scalability, ensuring a smooth user experience across devices. Collaborating with cross-functional teams including designers, backend developers, and product managers is key to implementing user-friendly interfaces that meet business objectives.\\n\\nAt Zoho Corporation, I've led the development of innovative solutions like a cross-browser keyboard simulation and a File Transfer SDK, significantly enhancing efficiency and usability. I focus on optimizing user interfaces and web applications to deliver scalable and user-centric solutions that elevate performance and enhance user experience.\\n\\nBeyond my professional roles, I actively stay updated with the latest frontend development trends and technologies. I participate in code reviews, provide and receive constructive feedback, and continuously seek to enhance my problem-solving skills. I'm committed to sharing insights and mentoring aspiring developers on platforms like GeeksForGeeks and Topmate.\\n\\nI'm eager to contribute my skills and drive innovation in frontend development. Let's connect to explore opportunities where I can leverage my technical expertise to create impactful web experiences!\",\n",
      "  \"experience\": [\n",
      "    {\n",
      "      \"company\": \"Zoho\",\n",
      "      \"title\": \"Software Engineer\",\n",
      "      \"description\": \"Frontend, React, Typescript, Javascript, Redux, Jest, HTML, CSS\",\n",
      "      \"startDate\": \"March 2022\",\n",
      "      \"endDate\": \"Present\",\n",
      "      \"location\": \"Chennai, Tamil Nadu, India\"\n",
      "    }\n",
      "  ],\n",
      "  \"education\": [\n",
      "    {\n",
      "      \"institution\": \"Anna University\",\n",
      "      \"degree\": \"Bachelor of Engineering - BE\",\n",
      "      \"major\": \"Mechanical Engineering\",\n",
      "      \"startDate\": \"2017\",\n",
      "      \"endDate\": \"2021\"\n",
      "    },\n",
      "    {\n",
      "      \"institution\": \"Velammal Matriculation Higher Secondary School\",\n",
      "      \"degree\": \"Higher Secondary\",\n",
      "      \"major\": \"Biology/Biological Sciences, General\",\n",
      "      \"startDate\": \"June 2015\",\n",
      "      \"endDate\": \"March 2017\"\n",
      "    },\n",
      "    {\n",
      "      \"institution\": \"Velammal Matriculation Higher Secondary School\",\n",
      "      \"degree\": \"Secondary\",\n",
      "      \"major\": null,\n",
      "      \"startDate\": \"June 2004\",\n",
      "      \"endDate\": \"March 2015\"\n",
      "    }\n",
      "  ]\n",
      "}\n",
      "```\n"
     ]
    }
   ],
   "source": [
    "import google.generativeai as genai\n",
    "from dotenv import load_dotenv\n",
    "import os\n",
    "\n",
    "# Load the environment variables from the .env file\n",
    "load_dotenv()\n",
    "\n",
    "# Get the API key from the environment variable\n",
    "GEMINI_API_KEY = os.getenv(\"GEMINI_API_KEY\")\n",
    "\n",
    "# Check if API key is loaded\n",
    "if not GEMINI_API_KEY:\n",
    "    raise ValueError(\"Gemini API key not found. Please set it in the code.\")\n",
    "\n",
    "\n",
    "# Configure Gemini AI\n",
    "genai.configure(api_key=GEMINI_API_KEY)\n",
    "model = genai.GenerativeModel(model_name=\"gemini-1.5-flash\")\n",
    "\n",
    "response1 = model.generate_content(f\"Could you kindly convert the candidate profile into a JSON format? The profile details are as follows: {Text_CV}\")\n",
    "JSON_CV = response1.text\n",
    "print(JSON_CV)\n"
   ]
  },
  {
   "cell_type": "code",
   "execution_count": 4,
   "metadata": {},
   "outputs": [
    {
     "name": "stdout",
     "output_type": "stream",
     "text": [
      "Candidate's Industry:  Software Engineering\n"
     ]
    }
   ],
   "source": [
    "response2 = model.generate_content(f\"\"\"\n",
    "                                From the following JSON file , Just identify the industry candidate belongs to, without explainations. {JSON_CV}.\n",
    "                            \"\"\")\n",
    "\n",
    "Candidate_Industry = response2.text.strip()\n",
    "print(\"Candidate's Industry: \", Candidate_Industry)\n",
    "\n"
   ]
  },
  {
   "cell_type": "code",
   "execution_count": 5,
   "metadata": {},
   "outputs": [
    {
     "name": "stdout",
     "output_type": "stream",
     "text": [
      "Candidate's Experience:  3 years\n"
     ]
    }
   ],
   "source": [
    "response3 = model.generate_content(f\"\"\"\n",
    "                                From the following JSON file ,Just Calculate the Total sum of working experience in all companies accurately in the format 'X years' only,\n",
    "                                without explainations. {JSON_CV}.\n",
    "                            \"\"\")\n",
    "\n",
    "Candidate_Experience = response3.text.strip()\n",
    "print(\"Candidate's Experience: \",Candidate_Experience)\n"
   ]
  },
  {
   "cell_type": "code",
   "execution_count": 6,
   "metadata": {},
   "outputs": [
    {
     "name": "stdout",
     "output_type": "stream",
     "text": [
      "Candidate's Skills:  - ES6\n",
      "- HTML5\n",
      "- CSS3\n"
     ]
    }
   ],
   "source": [
    "response4 = model.generate_content(f\"\"\"\n",
    "                                From the following JSON file ,Just list the Skills candidate belongs to, without explainations. {JSON_CV}.\n",
    "                            \"\"\")\n",
    "\n",
    "Candidate_Skills = response4.text.strip()\n",
    "print(\"Candidate's Skills: \",Candidate_Skills)"
   ]
  },
  {
   "cell_type": "markdown",
   "metadata": {},
   "source": [
    ".\n",
    "\n",
    ".\n",
    "\n",
    "### **<span style=\"color:red\"> STEP 3: Comparing the Job Description with the RESUME </span>**\n",
    "\n",
    "."
   ]
  },
  {
   "cell_type": "code",
   "execution_count": 7,
   "metadata": {},
   "outputs": [
    {
     "name": "stdout",
     "output_type": "stream",
     "text": [
      "## NOT FIT\n",
      "\n",
      "**Rating: 2/10**\n",
      "\n",
      "**Reason for not 10 points:** Candidate lacks the required skills and experience in deep learning, data science, machine learning, and natural language processing, which are all core requirements for the job.\n",
      "\n",
      "**Industry:** While both software engineering and technology are related, the candidate's experience might not be a direct match.\n",
      "\n",
      "**Experience:** Although the candidate has 3 years of experience, it doesn't align with the required skills for the role.\n",
      "\n",
      "**Skills:** The candidate's skills are mostly web development-related and don't overlap with the required skills for this technology-focused role. \n",
      "\n"
     ]
    }
   ],
   "source": [
    "response5 = model.generate_content(f\"\"\"\n",
    "                                Compare them and say FIT or NOT FIT answer in general on top as a heading, followed by a rating out of 10.\n",
    "                                For clarity, please explain the reasoning behind your assessment in separate lines for Industry, Experience & Skills in few words.\n",
    "                                  \n",
    "                                and if not 10 points then Reason for not 10 points in separate line.\n",
    "                                  \n",
    "                                Job Description:\n",
    "                                - Industry: {Industry}\n",
    "                                - Experience Required: {Experience} \n",
    "                                - Skills Required =: {Skills}\n",
    "\n",
    "                                Candidate Resume:\n",
    "                                - candidate Industry : {Candidate_Industry}\n",
    "                                - Total Experience: {Candidate_Experience}\n",
    "                                - candidate Skills: {Candidate_Skills}\n",
    "                            \"\"\")\n",
    "\n",
    "print(response5.text)"
   ]
  }
 ],
 "metadata": {
  "kernelspec": {
   "display_name": "Python 3",
   "language": "python",
   "name": "python3"
  },
  "language_info": {
   "codemirror_mode": {
    "name": "ipython",
    "version": 3
   },
   "file_extension": ".py",
   "mimetype": "text/x-python",
   "name": "python",
   "nbconvert_exporter": "python",
   "pygments_lexer": "ipython3",
   "version": "3.12.4"
  }
 },
 "nbformat": 4,
 "nbformat_minor": 2
}
